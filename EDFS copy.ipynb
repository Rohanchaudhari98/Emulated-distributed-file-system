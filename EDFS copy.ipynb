{
 "cells": [
  {
   "cell_type": "code",
   "execution_count": null,
   "id": "895da6d5",
   "metadata": {},
   "outputs": [],
   "source": [
    "from flask import Flask, jsonify, request, abort\n",
    "from flask import render_template\n",
    "from flask import Response\n",
    "from waitress import serve\n",
    "from flask_cors import CORS\n",
    "from IPython.display import HTML\n",
    "import requests\n",
    "import pymysql"
   ]
  },
  {
   "cell_type": "code",
   "execution_count": null,
   "id": "79060db9",
   "metadata": {},
   "outputs": [],
   "source": [
    "app = Flask(__name__)\n",
    "CORS(app)\n",
    "app.config[\"CORS_SUPPORTS_CREDENTIALS\"] = True\n",
    "if __name__ == '__main__':\n",
    "    app.run(host='127.0.0.1',port =5656,debug = true)"
   ]
  },
  {
   "cell_type": "code",
   "execution_count": 5,
   "id": "29010ad9",
   "metadata": {},
   "outputs": [
    {
     "data": {
      "text/html": [
       "<!DOCTYPE html>\n",
       "<html lang=\"en\">\n",
       "<head>\n",
       "    <meta charset=\"UTF-8\">\n",
       "    <meta name=\"viewport\" content=\"width=device-width, initial-scale=1\">\n",
       "    <link rel=\"stylesheet\" href=\"https://www.w3schools.com/w3css/4/w3.css\">\n",
       "    <meta charset=\"utf-8\">\n",
       "    <link rel=\"stylesheet\" type=\"text/css\" href=\"{{url_for('static',filename='styles/formstyle.css') }}\">\n",
       "    <meta name=\"viewport\" content=\"width=device-width, initial-scale=1, shrink-to-fit=no\">\n",
       "    <meta name=\"description\" content=\"\">\n",
       "    <meta name=\"author\" content=\"\">\n",
       "    <link rel=\"stylesheet\" type=\"text/css\" href=\"{{url_for('static',filename='styles/formstyle.css') }}\">\n",
       "    <meta charset=\"UTF-8\">\n",
       "    <meta name=\"viewport\" content=\"width=device-width, initial-scale=1, shrink-to-fit=no\">\n",
       "    <link rel=\"icon\" href=\"static/images/icon.png\">\n",
       "    <link rel=\"stylesheet\" type=\"text/css\" href=\"{{url_for('static',filename='styles/formstyle.css') }}\">\n",
       "    <link rel=\"stylesheet\" href=\"https://maxcdn.bootstrapcdn.com/bootstrap/4.0.0/css/bootstrap.min.css\" integrity=\"sha384-Gn5384xqQ1aoWXA+058RXPxPg6fy4IWvTNh0E263XmFcJlSAwiGgFAW/dAiS6JXm\" crossorigin=\"anonymous\">\n",
       "    <title>EDFS</title>\n",
       "</head>\n",
       "<body>\n",
       "    <div>\n",
       "        <form method=\"post\" action=\"/mkdir\">\n",
       "            <h2>Enter EDFS command</h2>\n",
       "            Enter command: <input type=\"text\" id=\"makedirectory\" name=\"mkdir\" placeholder=\"Enter EDFS command\" autofocus=\"\"/><br><br>\n",
       "            Enter filename/directory name: <input type=\"text\" id=\"filename\" name=\"filename\" placeholder=\"Enter Filename\" autofocus=\"\"/><br><br>\n",
       "            <input type=\"submit\" value=\"submit\">\n",
       "        </form>\n",
       "    </div>\n",
       "</body>\n",
       "</html>\n"
      ],
      "text/plain": [
       "<IPython.core.display.HTML object>"
      ]
     },
     "execution_count": 5,
     "metadata": {},
     "output_type": "execute_result"
    }
   ],
   "source": [
    "HTML(filename='edfs.html')"
   ]
  },
  {
   "cell_type": "code",
   "execution_count": null,
   "id": "06a9ddcb",
   "metadata": {},
   "outputs": [],
   "source": [
    "@app.route(\"/mkdir\", methods = ['POST', 'GET','DELETE','PUT'])\n",
    "def make_directory():\n",
    "    if request.method == \"POST\":\n",
    "        details = request.form\n",
    "        Subject = details['mkdir']\n",
    "        Description = details['filename']\n",
    "        print(Subject)\n",
    "        print(Description)\n",
    "        \n",
    "        \n",
    "        \n",
    "        \n",
    "    "
   ]
  },
  {
   "cell_type": "code",
   "execution_count": null,
   "id": "fb563aa2",
   "metadata": {},
   "outputs": [],
   "source": []
  }
 ],
 "metadata": {
  "kernelspec": {
   "display_name": "Python 3",
   "language": "python",
   "name": "python3"
  },
  "language_info": {
   "codemirror_mode": {
    "name": "ipython",
    "version": 3
   },
   "file_extension": ".py",
   "mimetype": "text/x-python",
   "name": "python",
   "nbconvert_exporter": "python",
   "pygments_lexer": "ipython3",
   "version": "3.6.4"
  }
 },
 "nbformat": 4,
 "nbformat_minor": 5
}
